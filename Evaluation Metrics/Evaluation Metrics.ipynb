{
 "cells": [
  {
   "cell_type": "code",
   "execution_count": null,
   "id": "803ad2a0",
   "metadata": {},
   "outputs": [],
   "source": [
    "# Importing Libraries\n",
    "import seaborn as sns\n",
    "import matplotlib.pyplot as plt\n",
    "import numpy as np\n",
    "import pandas as pd\n",
    "import sklearn"
   ]
  },
  {
   "cell_type": "code",
   "execution_count": null,
   "id": "400e71ce",
   "metadata": {
    "scrolled": true
   },
   "outputs": [],
   "source": [
    "pwd"
   ]
  },
  {
   "cell_type": "code",
   "execution_count": null,
   "id": "c87fadef",
   "metadata": {},
   "outputs": [],
   "source": [
    "sns.get_dataset_names()"
   ]
  },
  {
   "cell_type": "code",
   "execution_count": null,
   "id": "889d2c38",
   "metadata": {},
   "outputs": [],
   "source": [
    "df = sns.load_dataset(\"tips\")"
   ]
  },
  {
   "cell_type": "code",
   "execution_count": null,
   "id": "025571e7",
   "metadata": {},
   "outputs": [],
   "source": [
    "df.head()"
   ]
  },
  {
   "cell_type": "code",
   "execution_count": null,
   "id": "e219feaf",
   "metadata": {},
   "outputs": [],
   "source": [
    "df.isnull().sum()"
   ]
  },
  {
   "cell_type": "code",
   "execution_count": null,
   "id": "44ccb3b4",
   "metadata": {},
   "outputs": [],
   "source": [
    "# Encoding Categorical to Numerical Values\n",
    "from sklearn.preprocessing import LabelEncoder\n",
    "le = LabelEncoder()"
   ]
  },
  {
   "cell_type": "code",
   "execution_count": null,
   "id": "2a796d82",
   "metadata": {},
   "outputs": [],
   "source": [
    "df['sex'] = le.fit_transform(df['sex'])\n",
    "df['smoker'] = le.fit_transform(df['smoker'])\n",
    "df['day'] = le.fit_transform(df['day'])\n",
    "df['time'] = le.fit_transform(df['time'])"
   ]
  },
  {
   "cell_type": "code",
   "execution_count": null,
   "id": "94f9435d",
   "metadata": {},
   "outputs": [],
   "source": [
    "df.head()"
   ]
  },
  {
   "cell_type": "markdown",
   "id": "6c604338",
   "metadata": {},
   "source": [
    "## splitting the dataset into x and y"
   ]
  },
  {
   "cell_type": "code",
   "execution_count": null,
   "id": "aa68389e",
   "metadata": {},
   "outputs": [],
   "source": [
    "x = df.drop('tip',axis=1)\n",
    "y = df['tip']"
   ]
  },
  {
   "cell_type": "code",
   "execution_count": null,
   "id": "47e3dac6",
   "metadata": {},
   "outputs": [],
   "source": [
    "x"
   ]
  },
  {
   "cell_type": "code",
   "execution_count": null,
   "id": "6181ef23",
   "metadata": {},
   "outputs": [],
   "source": [
    "y"
   ]
  },
  {
   "cell_type": "markdown",
   "id": "bd216ac0",
   "metadata": {},
   "source": [
    "## applying scaling on the x\n"
   ]
  },
  {
   "cell_type": "code",
   "execution_count": null,
   "id": "59511ce4",
   "metadata": {},
   "outputs": [],
   "source": [
    "from sklearn.preprocessing import MinMaxScaler\n",
    "scale = MinMaxScaler()"
   ]
  },
  {
   "cell_type": "code",
   "execution_count": null,
   "id": "64cea74e",
   "metadata": {},
   "outputs": [],
   "source": [
    "x = scale.fit_transform(x)"
   ]
  },
  {
   "cell_type": "code",
   "execution_count": null,
   "id": "d9a232a2",
   "metadata": {},
   "outputs": [],
   "source": [
    "x"
   ]
  },
  {
   "cell_type": "markdown",
   "id": "b40c4315",
   "metadata": {},
   "source": [
    "## splitting the x and y in train and test set"
   ]
  },
  {
   "cell_type": "code",
   "execution_count": null,
   "id": "566437ff",
   "metadata": {},
   "outputs": [],
   "source": [
    "from sklearn.model_selection import train_test_split"
   ]
  },
  {
   "cell_type": "code",
   "execution_count": null,
   "id": "b543796d",
   "metadata": {},
   "outputs": [],
   "source": [
    "x_train, x_test, y_train, y_test = train_test_split(x,y,test_size=0.3,random_state=0)"
   ]
  },
  {
   "cell_type": "code",
   "execution_count": null,
   "id": "97d70cf6",
   "metadata": {},
   "outputs": [],
   "source": [
    "x_train.shape"
   ]
  },
  {
   "cell_type": "code",
   "execution_count": null,
   "id": "09efb5ac",
   "metadata": {},
   "outputs": [],
   "source": [
    "y_train.shape"
   ]
  },
  {
   "cell_type": "code",
   "execution_count": null,
   "id": "d588f7af",
   "metadata": {},
   "outputs": [],
   "source": [
    "x_test.shape"
   ]
  },
  {
   "cell_type": "markdown",
   "id": "68d389dc",
   "metadata": {},
   "source": [
    "## Model Building"
   ]
  },
  {
   "cell_type": "code",
   "execution_count": null,
   "id": "ff05265b",
   "metadata": {},
   "outputs": [],
   "source": [
    "from sklearn.linear_model import LinearRegression\n",
    "lr =LinearRegression()"
   ]
  },
  {
   "cell_type": "code",
   "execution_count": null,
   "id": "0dc2d59f",
   "metadata": {},
   "outputs": [],
   "source": [
    "lr.fit(x_train,y_train)"
   ]
  },
  {
   "cell_type": "code",
   "execution_count": null,
   "id": "f75829f0",
   "metadata": {},
   "outputs": [],
   "source": [
    "y_pred = lr.predict(x_test)"
   ]
  },
  {
   "cell_type": "code",
   "execution_count": null,
   "id": "7a312ca8",
   "metadata": {},
   "outputs": [],
   "source": [
    "y_pred"
   ]
  },
  {
   "cell_type": "code",
   "execution_count": null,
   "id": "28b21321",
   "metadata": {},
   "outputs": [],
   "source": [
    "y_test"
   ]
  },
  {
   "cell_type": "markdown",
   "id": "a22cde87",
   "metadata": {},
   "source": [
    "## Evaluation metrics"
   ]
  },
  {
   "cell_type": "code",
   "execution_count": null,
   "id": "9e09b518",
   "metadata": {},
   "outputs": [],
   "source": [
    "from sklearn.metrics import mean_squared_error, r2_score, mean_absolute_error"
   ]
  },
  {
   "cell_type": "code",
   "execution_count": null,
   "id": "650e1793",
   "metadata": {},
   "outputs": [],
   "source": [
    "error = y_test - y_pred # error is E in mse"
   ]
  },
  {
   "cell_type": "code",
   "execution_count": null,
   "id": "17567b36",
   "metadata": {},
   "outputs": [],
   "source": [
    "error"
   ]
  },
  {
   "cell_type": "code",
   "execution_count": null,
   "id": "54ad20ca",
   "metadata": {},
   "outputs": [],
   "source": [
    "se = error*error  #se- squared error SE in mse"
   ]
  },
  {
   "cell_type": "code",
   "execution_count": null,
   "id": "e8a82e76",
   "metadata": {},
   "outputs": [],
   "source": [
    "se"
   ]
  },
  {
   "cell_type": "code",
   "execution_count": null,
   "id": "a9d73e1d",
   "metadata": {},
   "outputs": [],
   "source": [
    "mse = np.mean(se)  #mse - mean squared error"
   ]
  },
  {
   "cell_type": "code",
   "execution_count": null,
   "id": "334dd382",
   "metadata": {},
   "outputs": [],
   "source": [
    "mse"
   ]
  },
  {
   "cell_type": "code",
   "execution_count": null,
   "id": "b2aaee53",
   "metadata": {},
   "outputs": [],
   "source": [
    "mse2 = mean_squared_error(y_test,y_pred) #finding mse using sklearn library"
   ]
  },
  {
   "cell_type": "code",
   "execution_count": null,
   "id": "f0f008c1",
   "metadata": {},
   "outputs": [],
   "source": [
    "mse2 #as we see both by function and manual error rate is same"
   ]
  },
  {
   "cell_type": "code",
   "execution_count": null,
   "id": "a78cbd2f",
   "metadata": {},
   "outputs": [],
   "source": [
    "mae2 = mean_absolute_error(y_test,y_pred)"
   ]
  },
  {
   "cell_type": "code",
   "execution_count": null,
   "id": "22bc287a",
   "metadata": {},
   "outputs": [],
   "source": [
    "mae2"
   ]
  },
  {
   "cell_type": "code",
   "execution_count": null,
   "id": "45491bd9",
   "metadata": {},
   "outputs": [],
   "source": [
    "rmse = np.sqrt(mse) #rmse is squqred root of mse"
   ]
  },
  {
   "cell_type": "code",
   "execution_count": null,
   "id": "463fc3c5",
   "metadata": {},
   "outputs": [],
   "source": [
    "rmse #mse we got is 1.14"
   ]
  },
  {
   "cell_type": "code",
   "execution_count": null,
   "id": "0e9ca861",
   "metadata": {},
   "outputs": [],
   "source": [
    "r2 = r2_score(y_test,y_pred)"
   ]
  },
  {
   "cell_type": "code",
   "execution_count": null,
   "id": "f1f5c8aa",
   "metadata": {},
   "outputs": [],
   "source": [
    "r2"
   ]
  },
  {
   "cell_type": "markdown",
   "id": "2dee9a09",
   "metadata": {},
   "source": [
    "# **Classification metrics**"
   ]
  },
  {
   "cell_type": "code",
   "execution_count": null,
   "id": "daa56ec3",
   "metadata": {},
   "outputs": [],
   "source": [
    "data = sns.load_dataset(\"titanic\")"
   ]
  },
  {
   "cell_type": "code",
   "execution_count": null,
   "id": "16aacdd0",
   "metadata": {},
   "outputs": [],
   "source": [
    "data.head()"
   ]
  },
  {
   "cell_type": "code",
   "execution_count": null,
   "id": "d499827a",
   "metadata": {},
   "outputs": [],
   "source": [
    "data.isnull().sum()"
   ]
  },
  {
   "cell_type": "code",
   "execution_count": null,
   "id": "2336e013",
   "metadata": {},
   "outputs": [],
   "source": [
    "data['age'].fillna(data['age'].median(), inplace=True) #filling/replacing the null values using the median value of the column"
   ]
  },
  {
   "cell_type": "code",
   "execution_count": null,
   "id": "9934cd9b",
   "metadata": {},
   "outputs": [],
   "source": [
    "data['deck'].mode()"
   ]
  },
  {
   "cell_type": "code",
   "execution_count": null,
   "id": "167b2878",
   "metadata": {},
   "outputs": [],
   "source": [
    "data['deck'].fillna(data['deck'].mode()[0], inplace=True)"
   ]
  },
  {
   "cell_type": "code",
   "execution_count": null,
   "id": "c245c4ce",
   "metadata": {},
   "outputs": [],
   "source": [
    "data.isnull().sum()"
   ]
  },
  {
   "cell_type": "code",
   "execution_count": null,
   "id": "e37e7723",
   "metadata": {},
   "outputs": [],
   "source": [
    "data.dropna(how = 'any', inplace = True) # dropping the null values ( entire row ) by using dropna method"
   ]
  },
  {
   "cell_type": "code",
   "execution_count": null,
   "id": "020dcf95",
   "metadata": {},
   "outputs": [],
   "source": [
    "data.shape"
   ]
  },
  {
   "cell_type": "code",
   "execution_count": null,
   "id": "e15fc4ad",
   "metadata": {},
   "outputs": [],
   "source": [
    "data.isnull().sum()"
   ]
  },
  {
   "cell_type": "code",
   "execution_count": null,
   "id": "fa6196e1",
   "metadata": {},
   "outputs": [],
   "source": [
    "# Ecoding Categorical to numrical values\n",
    "data['sex']=le.fit_transform(data['sex'])\n",
    "data['embarked']=le.fit_transform(data['embarked'])\n",
    "data['class']=le.fit_transform(data['class'])\n",
    "data['who']=le.fit_transform(data['who'])\n",
    "data['adult_male']=le.fit_transform(data['adult_male'])\n",
    "data['deck']=le.fit_transform(data['deck'])\n",
    "data['alive']=le.fit_transform(data['alive'])\n",
    "data['alone']=le.fit_transform(data['alone'])"
   ]
  },
  {
   "cell_type": "code",
   "execution_count": null,
   "id": "5b333451",
   "metadata": {},
   "outputs": [],
   "source": [
    "data.drop('embark_town',axis=1,inplace=True)"
   ]
  },
  {
   "cell_type": "code",
   "execution_count": null,
   "id": "b258411d",
   "metadata": {},
   "outputs": [],
   "source": [
    "data.head()"
   ]
  },
  {
   "cell_type": "code",
   "execution_count": null,
   "id": "2b88fd9d",
   "metadata": {},
   "outputs": [],
   "source": [
    "x = data.drop('survived',axis=1)\n",
    "y=data['survived']"
   ]
  },
  {
   "cell_type": "code",
   "execution_count": null,
   "id": "6610773c",
   "metadata": {},
   "outputs": [],
   "source": [
    "x"
   ]
  },
  {
   "cell_type": "code",
   "execution_count": null,
   "id": "c50dc6f7",
   "metadata": {},
   "outputs": [],
   "source": [
    "y"
   ]
  },
  {
   "cell_type": "code",
   "execution_count": null,
   "id": "6a372670",
   "metadata": {},
   "outputs": [],
   "source": [
    "# Scaling down values using MinMax Scaler"
   ]
  },
  {
   "cell_type": "code",
   "execution_count": null,
   "id": "92d52f08",
   "metadata": {},
   "outputs": [],
   "source": [
    "x = scale.fit_transform(x)"
   ]
  },
  {
   "cell_type": "code",
   "execution_count": null,
   "id": "a681b34d",
   "metadata": {},
   "outputs": [],
   "source": [
    "x"
   ]
  },
  {
   "cell_type": "code",
   "execution_count": null,
   "id": "f1338c38",
   "metadata": {},
   "outputs": [],
   "source": [
    "x_train,x_test,y_train,y_test = train_test_split(x,y,test_size=0.3,random_state=0)"
   ]
  },
  {
   "cell_type": "code",
   "execution_count": null,
   "id": "74929735",
   "metadata": {},
   "outputs": [],
   "source": [
    "from sklearn.linear_model import LogisticRegression\n",
    "lor = LogisticRegression()"
   ]
  },
  {
   "cell_type": "code",
   "execution_count": null,
   "id": "5d634040",
   "metadata": {},
   "outputs": [],
   "source": [
    "lor.fit(x_train,y_train)"
   ]
  },
  {
   "cell_type": "code",
   "execution_count": null,
   "id": "b2b2151d",
   "metadata": {},
   "outputs": [],
   "source": [
    "y_pred = lor.predict(x_test)"
   ]
  },
  {
   "cell_type": "code",
   "execution_count": null,
   "id": "2248f5a0",
   "metadata": {},
   "outputs": [],
   "source": [
    "from sklearn.metrics import accuracy_score,confusion_matrix, roc_auc_score, classification_report"
   ]
  },
  {
   "cell_type": "code",
   "execution_count": null,
   "id": "e6772b82",
   "metadata": {},
   "outputs": [],
   "source": [
    "acc = accuracy_score(y_test,y_pred)"
   ]
  },
  {
   "cell_type": "code",
   "execution_count": null,
   "id": "428132d9",
   "metadata": {},
   "outputs": [],
   "source": [
    "acc"
   ]
  },
  {
   "cell_type": "code",
   "execution_count": null,
   "id": "7aadda48",
   "metadata": {},
   "outputs": [],
   "source": [
    "cm =  confusion_matrix(y_test,y_pred)"
   ]
  },
  {
   "cell_type": "code",
   "execution_count": null,
   "id": "21820378",
   "metadata": {},
   "outputs": [],
   "source": [
    "cm"
   ]
  },
  {
   "cell_type": "code",
   "execution_count": null,
   "id": "8372b41e",
   "metadata": {},
   "outputs": [],
   "source": [
    "print(classification_report(y_test,y_pred))"
   ]
  },
  {
   "cell_type": "code",
   "execution_count": null,
   "id": "32ce31a6",
   "metadata": {},
   "outputs": [],
   "source": [
    "roc_score = roc_auc_score(y_test,y_pred)"
   ]
  },
  {
   "cell_type": "code",
   "execution_count": null,
   "id": "79b2f4db",
   "metadata": {},
   "outputs": [],
   "source": [
    "roc_score\n",
    "#The ROC AUC score ranges between 0 and 1, where a score closer to 1 indicates better\n",
    "#performance of the model in terms of distinguishing between the positive and negative classes"
   ]
  },
  {
   "cell_type": "code",
   "execution_count": null,
   "id": "4948b619-0a9b-4fba-8ce0-5bad34a9f141",
   "metadata": {},
   "outputs": [],
   "source": [
    " sklearn.metrics.roc_curve(y_test,y_pred)"
   ]
  },
  {
   "cell_type": "code",
   "execution_count": null,
   "id": "036d8988",
   "metadata": {},
   "outputs": [],
   "source": [
    "fpr, tpr, threshold = sklearn.metrics.roc_curve(y_test,y_pred)\n",
    "plt.plot(fpr,tpr,marker='o')\n",
    "plt.xlabel('False Positive Rate')\n",
    "plt.ylabel('True Positive Rate')\n"
   ]
  },
  {
   "cell_type": "code",
   "execution_count": null,
   "id": "743d2867",
   "metadata": {},
   "outputs": [],
   "source": []
  }
 ],
 "metadata": {
  "kernelspec": {
   "display_name": "Python 3 (ipykernel)",
   "language": "python",
   "name": "python3"
  },
  "language_info": {
   "codemirror_mode": {
    "name": "ipython",
    "version": 3
   },
   "file_extension": ".py",
   "mimetype": "text/x-python",
   "name": "python",
   "nbconvert_exporter": "python",
   "pygments_lexer": "ipython3",
   "version": "3.12.1"
  }
 },
 "nbformat": 4,
 "nbformat_minor": 5
}
